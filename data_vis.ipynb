{
 "cells": [
  {
   "cell_type": "code",
   "execution_count": 13,
   "metadata": {},
   "outputs": [],
   "source": [
    "import pandas as pd\n",
    "import matplotlib.pyplot as plt\n",
    "from sklearn.decomposition import PCA\n",
    "import numpy as np\n",
    "\n",
    "from modAL.disagreement import vote_entropy_sampling\n",
    "from modAL.models import Activerandom_learner, Committee\n",
    "\n",
    "from sklearn.ensemble import RandomForestClassifier\n",
    "from sklearn.linear_model import LogisticRegression\n",
    "\n",
    "from sklearn.model_selection import train_test_split\n",
    "\n",
    "from tqdm import tqdm\n",
    "from collections import namedtuple\n",
    "\n"
   ]
  },
  {
   "cell_type": "code",
   "execution_count": 14,
   "metadata": {},
   "outputs": [
    {
     "name": "stdout",
     "output_type": "stream",
     "text": [
      "distance_from_home distance_from_last_transaction ratio_to_median_purchase_price repeat_retailer used_chip used_pin_number online_order fraud\n"
     ]
    }
   ],
   "source": [
    "df = pd.read_csv(\"data/card_transdata.csv\")\n",
    "\n",
    "#Data transform\n",
    "\n",
    "df['distance_from_home'] = (df['distance_from_home'] - np.mean(df['distance_from_home']))/np.std(df['distance_from_home'])\n",
    "df['distance_from_last_transaction'] = (df['distance_from_last_transaction'] - np.mean(df['distance_from_last_transaction']))/np.std(df['distance_from_last_transaction'])\n",
    "df['ratio_to_median_purchase_price'] = (df['ratio_to_median_purchase_price'] - np.mean(df['ratio_to_median_purchase_price']))/np.std(df['ratio_to_median_purchase_price'])\n",
    "\n",
    "print(*df.columns.values)\n",
    "\n",
    "#split to legit and fraud frames\n",
    "legit, fraud = [x for _, x in df.groupby(df['fraud'] == 1)]"
   ]
  },
  {
   "cell_type": "code",
   "execution_count": 15,
   "metadata": {},
   "outputs": [],
   "source": [
    "plt.hist(df['fraud'])\n",
    "plt.show()"
   ]
  },
  {
   "cell_type": "code",
   "execution_count": 4,
   "metadata": {},
   "outputs": [
    {
     "data": {
      "image/png": "[encoded data removed]",
      "text/plain": [
       "<Figure size 640x480 with 1 Axes>"
      ]
     },
     "metadata": {},
     "output_type": "display_data"
    }
   ],
   "source": [
    "plt.scatter(legit['distance_from_home'], legit['distance_from_last_transaction'])\n",
    "plt.scatter(fraud['distance_from_home'], fraud['distance_from_last_transaction'])\n",
    "plt.show()"
   ]
  },
  {
   "cell_type": "code",
   "execution_count": 16,
   "metadata": {},
   "outputs": [],
   "source": [
    "#PC transform data\n",
    "n_comp = 7\n",
    "pca = PCA(n_components=n_comp)\n",
    "pca.fit(df.loc[:, df.columns != 'fraud'])\n",
    "\n",
    "legit, fraud = pca.transform(legit.loc[:, legit.columns != 'fraud']), pca.transform(fraud.loc[:, fraud.columns != 'fraud'])"
   ]
  },
  {
   "cell_type": "code",
   "execution_count": 17,
   "metadata": {},
   "outputs": [
    {
     "name": "stdout",
     "output_type": "stream",
     "text": [
      "(50, 7)\n"
     ]
    }
   ],
   "source": [
    "%matplotlib qt\n",
    "fig = plt.figure()\n",
    "\n",
    "legit_lim = legit[:50]\n",
    "fraud_lim = fraud[:50]\n",
    "\n",
    "print(legit_lim.shape)\n",
    "\n",
    "ax = fig.add_subplot(projection='3d')\n",
    "\n",
    "ax.scatter(legit_lim.T[4], legit_lim.T[5], legit_lim.T[6])\n",
    "ax.scatter(fraud_lim.T[4], fraud_lim.T[5], fraud_lim.T[6])\n",
    "\n",
    "plt.show()"
   ]
  },
  {
   "cell_type": "code",
   "execution_count": 26,
   "metadata": {},
   "outputs": [],
   "source": [
    "\n",
    "y = df['fraud'].to_numpy()\n",
    "X = df.drop('fraud', axis='columns').to_numpy()\n",
    "X_train, X_test, y_train, y_test = train_test_split( X, y, test_size=0.2,shuffle=True)\n",
    "SEED = 58 # Set our RNG seed for reproducibility.\n",
    "\n",
    "n_queries = 100 # You can lower this to decrease run time\n",
    "\n",
    "# You can increase this to get error bars on your evaluation.\n",
    "# You probably need to use the parallel code to make this reasonable to compute\n",
    "n_repeats = 1\n",
    "\n",
    "permutations=[np.random.permutation(X_train.shape[0]) for _ in range(n_repeats)]\n",
    "\n",
    "ResultsRecord = namedtuple('ResultsRecord', ['estimator', 'query_id', 'score'])"
   ]
  },
  {
   "cell_type": "code",
   "execution_count": 29,
   "metadata": {},
   "outputs": [
    {
     "name": "stderr",
     "output_type": "stream",
     "text": [
      "100%|██████████| 99/99 [00:05<00:00, 16.84it/s]"
     ]
    },
    {
     "name": "stdout",
     "output_type": "stream",
     "text": [
      "99\n"
     ]
    },
    {
     "name": "stderr",
     "output_type": "stream",
     "text": [
      "\n"
     ]
    }
   ],
   "source": [
    "random_results = []\n",
    "\n",
    "ModelClass=LogisticRegression\n",
    "\n",
    "n_start = 5\n",
    "\n",
    "for i_repeat in range(n_repeats):\n",
    "    start_points = permutations[i_repeat][:n_start]\n",
    "    selected_points = start_points\n",
    "    random_learner = ModelClass()\n",
    "    for i_query in tqdm(range(1,n_queries)):\n",
    "        #the random learner\n",
    "        query_indices=permutations[i_repeat][:n_start+i_query]\n",
    "        random_learner = random_learner.fit(X=X_train[query_indices, :], y=y_train[query_indices])\n",
    "        score = random_learner.score(X_test, y_test)\n",
    "        random_results.append(ResultsRecord('random', i_query, score))\n"
   ]
  },
  {
   "cell_type": "code",
   "execution_count": 30,
   "metadata": {},
   "outputs": [
    {
     "name": "stderr",
     "output_type": "stream",
     "text": [
      "c:\\Users\\lucas\\miniconda3\\envs\\02463\\lib\\site-packages\\matplotlib\\axes\\_base.py:2539: UserWarning: Warning: converting a masked element to nan.\n",
      "  xys = np.asarray(xys)\n"
     ]
    }
   ],
   "source": [
    "df_results = pd.DataFrame(random_results)\n",
    "\n",
    "df_results_mean=df_results.groupby(['estimator','query_id']).mean()\n",
    "df_results_std=df_results.groupby(['estimator','query_id']).std()\n",
    "\n",
    "df_mean=df_results_mean.reset_index().pivot(index='query_id', columns='estimator', values='score')\n",
    "df_std=df_results_std.reset_index().pivot(index='query_id', columns='estimator', values='score')\n",
    "\n",
    "df_mean.plot(figsize=(8.5,6), yerr=df_std)\n",
    "plt.grid('on')"
   ]
  },
  {
   "cell_type": "code",
   "execution_count": null,
   "metadata": {},
   "outputs": [],
   "source": []
  }
 ],
 "metadata": {
  "kernelspec": {
   "display_name": "Python 3",
   "language": "python",
   "name": "python3"
  },
  "language_info": {
   "codemirror_mode": {
    "name": "ipython",
    "version": 3
   },
   "file_extension": ".py",
   "mimetype": "text/x-python",
   "name": "python",
   "nbconvert_exporter": "python",
   "pygments_lexer": "ipython3",
   "version": "3.9.16"
  },
  "orig_nbformat": 4
 },
 "nbformat": 4,
 "nbformat_minor": 2
}
